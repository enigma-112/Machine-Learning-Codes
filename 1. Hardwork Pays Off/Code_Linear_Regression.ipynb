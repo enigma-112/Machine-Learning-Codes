{
 "cells": [
  {
   "cell_type": "code",
   "execution_count": 1,
   "metadata": {},
   "outputs": [],
   "source": [
    "import numpy as np\n",
    "import pandas as pd\n",
    "import matplotlib.pyplot as plt"
   ]
  },
  {
   "cell_type": "code",
   "execution_count": 54,
   "metadata": {},
   "outputs": [
    {
     "name": "stdout",
     "output_type": "stream",
     "text": [
      "<class 'pandas.core.frame.DataFrame'>\n",
      "<class 'pandas.core.frame.DataFrame'>\n",
      "<class 'pandas.core.frame.DataFrame'>\n",
      "<class 'numpy.ndarray'>\n",
      "<class 'numpy.ndarray'>\n",
      "<class 'numpy.ndarray'>\n",
      "(3750, 1)\n",
      "(3750, 1)\n",
      "(1250, 1)\n",
      "[[-1.87794441]\n",
      " [-0.86903192]\n",
      " [-2.53018242]\n",
      " ...\n",
      " [ 0.12800782]\n",
      " [-0.27803759]\n",
      " [-0.68042543]]\n"
     ]
    }
   ],
   "source": [
    "x_train=pd.read_csv(\"Linear_X_Train.csv\")\n",
    "y_train=pd.read_csv(\"Linear_Y_Train.csv\")\n",
    "x_test=pd.read_csv(\"Linear_X_Test.csv\")\n",
    "\n",
    "print(type(x_train))\n",
    "print(type(y_train))\n",
    "print(type(x_test))\n",
    "x_train=x_train.values\n",
    "y_train=y_train.values\n",
    "x_test=x_test.values\n",
    "\n",
    "print(type(x_train))\n",
    "print(type(y_train))\n",
    "print(type(x_test))\n",
    "print(x_train.shape)\n",
    "print(y_train.shape)\n",
    "print(x_test.shape)\n",
    "print(x_test)\n"
   ]
  },
  {
   "cell_type": "code",
   "execution_count": 3,
   "metadata": {},
   "outputs": [
    {
     "data": {
      "image/png": "[encoded data removed]",
      "text/plain": [
       "<Figure size 432x288 with 1 Axes>"
      ]
     },
     "metadata": {
      "needs_background": "light"
     },
     "output_type": "display_data"
    }
   ],
   "source": [
    "#Normalization\n",
    "x_train=(x_train-x_train.mean())/x_train.std()\n",
    "plt.scatter(x_train,y_train)\n",
    "plt.show()\n"
   ]
  },
  {
   "cell_type": "code",
   "execution_count": 4,
   "metadata": {},
   "outputs": [
    {
     "name": "stdout",
     "output_type": "stream",
     "text": [
      "[-0.09110112]\n"
     ]
    }
   ],
   "source": [
    "print(y_train[0])"
   ]
  },
  {
   "cell_type": "code",
   "execution_count": 5,
   "metadata": {},
   "outputs": [],
   "source": [
    "def hypothesis(xi,theta):    \n",
    "    return theta[0] + theta[1]*xi\n",
    "\n",
    "def error(x,y,theta):\n",
    "    error=0\n",
    "    m=x.shape[0]\n",
    "    for i in range(m):\n",
    "        y_predicted = hypothesis(x[i],theta)\n",
    "        error += (1/m)*(y[i]-y_predicted)**2\n",
    "    \n",
    "    return error\n",
    "\n",
    "def gradient(x,y,theta):\n",
    "    \n",
    "    grad = np.zeros((2,))\n",
    "    m = x.shape[0]\n",
    "    for i in range(m):\n",
    "        y_predicted = hypothesis(x[i],theta)\n",
    "        grad[0] += (2/m)*(y[i]-y_predicted)*(-1)\n",
    "        grad[1] += (2/m)*(y[i]-y_predicted)*(-x[i])\n",
    "    \n",
    "    return grad\n",
    "\n",
    "def gradient_descent(x,y,learning_rate=0.001):\n",
    "    \n",
    "    theta = np.zeros((2,))\n",
    "    \n",
    "    max_itr=5000\n",
    "    \n",
    "    error_list = []\n",
    "    for i in range(max_itr):\n",
    "       \n",
    "        grad = gradient(x,y,theta)\n",
    "        e = error(x,y,theta)\n",
    "        error_list.append(e)\n",
    "        theta[0]= theta[0] - learning_rate*grad[0]\n",
    "        theta[1]= theta[1] - learning_rate*grad[1]\n",
    "        \n",
    "    return theta,error_list \n",
    "    "
   ]
  },
  {
   "cell_type": "code",
   "execution_count": 8,
   "metadata": {},
   "outputs": [],
   "source": [
    "final_theta,error_list = gradient_descent(x_train,y_train,0.001)"
   ]
  },
  {
   "cell_type": "code",
   "execution_count": 9,
   "metadata": {},
   "outputs": [
    {
     "name": "stdout",
     "output_type": "stream",
     "text": [
      "[ 0.68383823 79.90214537]\n"
     ]
    }
   ],
   "source": [
    "print(final_theta)"
   ]
  },
  {
   "cell_type": "code",
   "execution_count": 10,
   "metadata": {},
   "outputs": [
    {
     "data": {
      "image/png": "[encoded data removed]",
      "text/plain": [
       "<Figure size 432x288 with 1 Axes>"
      ]
     },
     "metadata": {
      "needs_background": "light"
     },
     "output_type": "display_data"
    }
   ],
   "source": [
    "plt.plot(error_list)\n",
    "plt.show()"
   ]
  },
  {
   "cell_type": "code",
   "execution_count": 72,
   "metadata": {},
   "outputs": [
    {
     "name": "stdout",
     "output_type": "stream",
     "text": [
      "[-149.36794934  -68.75367625 -201.48316568 ...   10.91193776  -21.53196168\n",
      "  -53.68361327]\n",
      "\n"
     ]
    }
   ],
   "source": [
    "data_points = x_test.shape[0]\n",
    "\n",
    "predictions = []\n",
    "\n",
    "\n",
    "for i in range(data_points):\n",
    "    predictions.append(hypothesis(x_test[i][0],final_theta))\n",
    "\n",
    "output=np.array(predictions)\n",
    "print(output)\n",
    "np.savetxt(\"predictions.csv\",output,header=\"y\",delimiter=\",\",comments=\"\")\n",
    "print()\n"
   ]
  }
 ],
 "metadata": {
  "kernelspec": {
   "display_name": "Python 3",
   "language": "python",
   "name": "python3"
  },
  "language_info": {
   "codemirror_mode": {
    "name": "ipython",
    "version": 3
   },
   "file_extension": ".py",
   "mimetype": "text/x-python",
   "name": "python",
   "nbconvert_exporter": "python",
   "pygments_lexer": "ipython3",
   "version": "3.7.0"
  }
 },
 "nbformat": 4,
 "nbformat_minor": 2
}
